{
 "cells": [
  {
   "cell_type": "code",
   "execution_count": 1,
   "id": "3af13cf8-8298-426d-ad43-db8dbd3ff195",
   "metadata": {
    "editable": true,
    "slideshow": {
     "slide_type": "skip"
    },
    "tags": []
   },
   "outputs": [],
   "source": [
    "import mercury as mr\n",
    "import pandas as pd\n",
    "import numpy as np\n",
    "from matplotlib import pyplot as plt"
   ]
  },
  {
   "cell_type": "code",
   "execution_count": 2,
   "id": "6ad085e2-cf61-42ff-a9cd-db4a7bfe63d5",
   "metadata": {
    "editable": true,
    "slideshow": {
     "slide_type": "skip"
    },
    "tags": []
   },
   "outputs": [
    {
     "data": {
      "application/mercury+json": "{\n    \"widget\": \"App\",\n    \"title\": \"Presentation \\ud83c\\udfb2\",\n    \"description\": \"Interactive presentation\",\n    \"show_code\": false,\n    \"show_prompt\": false,\n    \"output\": \"app\",\n    \"schedule\": \"\",\n    \"notify\": \"{}\",\n    \"continuous_update\": true,\n    \"static_notebook\": false,\n    \"show_sidebar\": true,\n    \"full_screen\": true,\n    \"allow_download\": true,\n    \"stop_on_error\": false,\n    \"model_id\": \"mercury-app\",\n    \"code_uid\": \"App.0.40.25.1-rand32143390\"\n}",
      "text/html": [
       "<h3>Mercury Application</h3><small>This output won't appear in the web app.</small>"
      ],
      "text/plain": [
       "mercury.App"
      ]
     },
     "metadata": {},
     "output_type": "display_data"
    }
   ],
   "source": [
    "app = mr.App(title=\"Presentation 🎲\", description=\"Interactive presentation\")"
   ]
  },
  {
   "cell_type": "markdown",
   "id": "50fe94bc-cb71-49ab-ab94-dcda983cabec",
   "metadata": {
    "editable": true,
    "slideshow": {
     "slide_type": "slide"
    },
    "tags": []
   },
   "source": [
    "# Presentation 🎲"
   ]
  },
  {
   "cell_type": "markdown",
   "id": "5a9f8ecf-a7d7-4c06-bdc2-9dfc12d61f2f",
   "metadata": {
    "editable": true,
    "slideshow": {
     "slide_type": "slide"
    },
    "tags": []
   },
   "source": [
    "## Presentation about random data \n",
    "\n",
    "Agenda\n",
    "- generate random data \n",
    "- display data frame\n",
    "- display scatter plot"
   ]
  },
  {
   "cell_type": "code",
   "execution_count": 3,
   "id": "d2645c2e-4a6a-4641-ba64-ad04069402a1",
   "metadata": {
    "editable": true,
    "slideshow": {
     "slide_type": "skip"
    },
    "tags": []
   },
   "outputs": [
    {
     "data": {
      "application/mercury+json": "{\n    \"widget\": \"Slider\",\n    \"value\": 5,\n    \"min\": 2,\n    \"max\": 10,\n    \"step\": 1,\n    \"label\": \"Columns\",\n    \"model_id\": \"b9c28cef427d433d92883044a66adb66\",\n    \"code_uid\": \"Slider.0.40.34.1-rand40f82f66\",\n    \"url_key\": \"\",\n    \"disabled\": false,\n    \"hidden\": false\n}",
      "application/vnd.jupyter.widget-view+json": {
       "model_id": "b9c28cef427d433d92883044a66adb66",
       "version_major": 2,
       "version_minor": 0
      },
      "text/plain": [
       "mercury.Slider"
      ]
     },
     "metadata": {},
     "output_type": "display_data"
    },
    {
     "data": {
      "application/mercury+json": "{\n    \"widget\": \"Slider\",\n    \"value\": 20,\n    \"min\": 10,\n    \"max\": 50,\n    \"step\": 1,\n    \"label\": \"Rows\",\n    \"model_id\": \"7ed5b43b44e44b4a919e4b214ff886c0\",\n    \"code_uid\": \"Slider.0.40.34.2-randf5338ca9\",\n    \"url_key\": \"\",\n    \"disabled\": false,\n    \"hidden\": false\n}",
      "application/vnd.jupyter.widget-view+json": {
       "model_id": "7ed5b43b44e44b4a919e4b214ff886c0",
       "version_major": 2,
       "version_minor": 0
      },
      "text/plain": [
       "mercury.Slider"
      ]
     },
     "metadata": {},
     "output_type": "display_data"
    }
   ],
   "source": [
    "columns = mr.Slider(label=\"Columns\", value=5, min=2)\n",
    "rows = mr.Slider(label=\"Rows\", value=20, min=10, max=50)"
   ]
  },
  {
   "cell_type": "code",
   "execution_count": 4,
   "id": "930b4b4d-e5a9-49dc-923d-48709974329c",
   "metadata": {
    "editable": true,
    "slideshow": {
     "slide_type": "slide"
    },
    "tags": []
   },
   "outputs": [
    {
     "data": {
      "text/markdown": [
       "\n",
       "## Generated data 🎲\n",
       "\n",
       "### Rows: 20\n",
       "### Columns: 5\n",
       "### Cells: 100\n",
       "\n"
      ],
      "text/plain": [
       "<IPython.core.display.Markdown object>"
      ]
     },
     "metadata": {},
     "output_type": "display_data"
    }
   ],
   "source": [
    "df = pd.DataFrame({\n",
    "        f\"col{i}\": np.random.rand(rows.value) for i in range(columns.value)\n",
    "        })\n",
    "mr.Markdown(f\"\"\"\n",
    "## Generated data 🎲\n",
    "\n",
    "### Rows: {df.shape[0]}\n",
    "### Columns: {df.shape[1]}\n",
    "### Cells: {df.shape[0]*df.shape[1]}\n",
    "\n",
    "\"\"\")"
   ]
  },
  {
   "cell_type": "code",
   "execution_count": 5,
   "id": "d6a21284-8184-43c2-bc48-cd15e6c0ecec",
   "metadata": {
    "editable": true,
    "slideshow": {
     "slide_type": "slide"
    },
    "tags": []
   },
   "outputs": [
    {
     "data": {
      "text/html": [
       "<div>\n",
       "<style scoped>\n",
       "    .dataframe tbody tr th:only-of-type {\n",
       "        vertical-align: middle;\n",
       "    }\n",
       "\n",
       "    .dataframe tbody tr th {\n",
       "        vertical-align: top;\n",
       "    }\n",
       "\n",
       "    .dataframe thead th {\n",
       "        text-align: right;\n",
       "    }\n",
       "</style>\n",
       "<table border=\"1\" class=\"dataframe\">\n",
       "  <thead>\n",
       "    <tr style=\"text-align: right;\">\n",
       "      <th></th>\n",
       "      <th>col0</th>\n",
       "      <th>col1</th>\n",
       "      <th>col2</th>\n",
       "      <th>col3</th>\n",
       "      <th>col4</th>\n",
       "    </tr>\n",
       "  </thead>\n",
       "  <tbody>\n",
       "    <tr>\n",
       "      <th>0</th>\n",
       "      <td>0.085124</td>\n",
       "      <td>0.085402</td>\n",
       "      <td>0.319227</td>\n",
       "      <td>0.458259</td>\n",
       "      <td>0.580015</td>\n",
       "    </tr>\n",
       "    <tr>\n",
       "      <th>1</th>\n",
       "      <td>0.914369</td>\n",
       "      <td>0.192578</td>\n",
       "      <td>0.148153</td>\n",
       "      <td>0.339279</td>\n",
       "      <td>0.444989</td>\n",
       "    </tr>\n",
       "    <tr>\n",
       "      <th>2</th>\n",
       "      <td>0.671670</td>\n",
       "      <td>0.217014</td>\n",
       "      <td>0.259672</td>\n",
       "      <td>0.617960</td>\n",
       "      <td>0.753496</td>\n",
       "    </tr>\n",
       "    <tr>\n",
       "      <th>3</th>\n",
       "      <td>0.406248</td>\n",
       "      <td>0.284127</td>\n",
       "      <td>0.998829</td>\n",
       "      <td>0.323529</td>\n",
       "      <td>0.086284</td>\n",
       "    </tr>\n",
       "    <tr>\n",
       "      <th>4</th>\n",
       "      <td>0.481084</td>\n",
       "      <td>0.900926</td>\n",
       "      <td>0.654329</td>\n",
       "      <td>0.694899</td>\n",
       "      <td>0.707761</td>\n",
       "    </tr>\n",
       "    <tr>\n",
       "      <th>5</th>\n",
       "      <td>0.645398</td>\n",
       "      <td>0.961272</td>\n",
       "      <td>0.159044</td>\n",
       "      <td>0.982207</td>\n",
       "      <td>0.429671</td>\n",
       "    </tr>\n",
       "    <tr>\n",
       "      <th>6</th>\n",
       "      <td>0.507221</td>\n",
       "      <td>0.372636</td>\n",
       "      <td>0.874026</td>\n",
       "      <td>0.816696</td>\n",
       "      <td>0.117725</td>\n",
       "    </tr>\n",
       "    <tr>\n",
       "      <th>7</th>\n",
       "      <td>0.326619</td>\n",
       "      <td>0.719106</td>\n",
       "      <td>0.227853</td>\n",
       "      <td>0.778284</td>\n",
       "      <td>0.019768</td>\n",
       "    </tr>\n",
       "    <tr>\n",
       "      <th>8</th>\n",
       "      <td>0.311631</td>\n",
       "      <td>0.957830</td>\n",
       "      <td>0.830962</td>\n",
       "      <td>0.332840</td>\n",
       "      <td>0.786684</td>\n",
       "    </tr>\n",
       "    <tr>\n",
       "      <th>9</th>\n",
       "      <td>0.305449</td>\n",
       "      <td>0.028983</td>\n",
       "      <td>0.241257</td>\n",
       "      <td>0.505696</td>\n",
       "      <td>0.881811</td>\n",
       "    </tr>\n",
       "    <tr>\n",
       "      <th>10</th>\n",
       "      <td>0.714652</td>\n",
       "      <td>0.919861</td>\n",
       "      <td>0.991774</td>\n",
       "      <td>0.739986</td>\n",
       "      <td>0.541267</td>\n",
       "    </tr>\n",
       "    <tr>\n",
       "      <th>11</th>\n",
       "      <td>0.480081</td>\n",
       "      <td>0.221488</td>\n",
       "      <td>0.739676</td>\n",
       "      <td>0.194313</td>\n",
       "      <td>0.536544</td>\n",
       "    </tr>\n",
       "    <tr>\n",
       "      <th>12</th>\n",
       "      <td>0.717238</td>\n",
       "      <td>0.635513</td>\n",
       "      <td>0.944232</td>\n",
       "      <td>0.375919</td>\n",
       "      <td>0.011167</td>\n",
       "    </tr>\n",
       "    <tr>\n",
       "      <th>13</th>\n",
       "      <td>0.623865</td>\n",
       "      <td>0.705905</td>\n",
       "      <td>0.051043</td>\n",
       "      <td>0.754909</td>\n",
       "      <td>0.156666</td>\n",
       "    </tr>\n",
       "    <tr>\n",
       "      <th>14</th>\n",
       "      <td>0.060080</td>\n",
       "      <td>0.300062</td>\n",
       "      <td>0.669679</td>\n",
       "      <td>0.091824</td>\n",
       "      <td>0.140376</td>\n",
       "    </tr>\n",
       "    <tr>\n",
       "      <th>15</th>\n",
       "      <td>0.127203</td>\n",
       "      <td>0.564898</td>\n",
       "      <td>0.966267</td>\n",
       "      <td>0.656415</td>\n",
       "      <td>0.887110</td>\n",
       "    </tr>\n",
       "    <tr>\n",
       "      <th>16</th>\n",
       "      <td>0.549846</td>\n",
       "      <td>0.057581</td>\n",
       "      <td>0.279959</td>\n",
       "      <td>0.944602</td>\n",
       "      <td>0.620365</td>\n",
       "    </tr>\n",
       "    <tr>\n",
       "      <th>17</th>\n",
       "      <td>0.236549</td>\n",
       "      <td>0.158364</td>\n",
       "      <td>0.476770</td>\n",
       "      <td>0.144453</td>\n",
       "      <td>0.709132</td>\n",
       "    </tr>\n",
       "    <tr>\n",
       "      <th>18</th>\n",
       "      <td>0.601729</td>\n",
       "      <td>0.621304</td>\n",
       "      <td>0.549059</td>\n",
       "      <td>0.193314</td>\n",
       "      <td>0.179363</td>\n",
       "    </tr>\n",
       "    <tr>\n",
       "      <th>19</th>\n",
       "      <td>0.889376</td>\n",
       "      <td>0.845558</td>\n",
       "      <td>0.479438</td>\n",
       "      <td>0.687604</td>\n",
       "      <td>0.022453</td>\n",
       "    </tr>\n",
       "  </tbody>\n",
       "</table>\n",
       "</div>"
      ],
      "text/plain": [
       "        col0      col1      col2      col3      col4\n",
       "0   0.085124  0.085402  0.319227  0.458259  0.580015\n",
       "1   0.914369  0.192578  0.148153  0.339279  0.444989\n",
       "2   0.671670  0.217014  0.259672  0.617960  0.753496\n",
       "3   0.406248  0.284127  0.998829  0.323529  0.086284\n",
       "4   0.481084  0.900926  0.654329  0.694899  0.707761\n",
       "5   0.645398  0.961272  0.159044  0.982207  0.429671\n",
       "6   0.507221  0.372636  0.874026  0.816696  0.117725\n",
       "7   0.326619  0.719106  0.227853  0.778284  0.019768\n",
       "8   0.311631  0.957830  0.830962  0.332840  0.786684\n",
       "9   0.305449  0.028983  0.241257  0.505696  0.881811\n",
       "10  0.714652  0.919861  0.991774  0.739986  0.541267\n",
       "11  0.480081  0.221488  0.739676  0.194313  0.536544\n",
       "12  0.717238  0.635513  0.944232  0.375919  0.011167\n",
       "13  0.623865  0.705905  0.051043  0.754909  0.156666\n",
       "14  0.060080  0.300062  0.669679  0.091824  0.140376\n",
       "15  0.127203  0.564898  0.966267  0.656415  0.887110\n",
       "16  0.549846  0.057581  0.279959  0.944602  0.620365\n",
       "17  0.236549  0.158364  0.476770  0.144453  0.709132\n",
       "18  0.601729  0.621304  0.549059  0.193314  0.179363\n",
       "19  0.889376  0.845558  0.479438  0.687604  0.022453"
      ]
     },
     "execution_count": 5,
     "metadata": {},
     "output_type": "execute_result"
    }
   ],
   "source": [
    "df"
   ]
  },
  {
   "cell_type": "code",
   "execution_count": 6,
   "id": "ad71ffe6-8787-4278-9a56-528e4902c979",
   "metadata": {
    "editable": true,
    "slideshow": {
     "slide_type": "skip"
    },
    "tags": []
   },
   "outputs": [
    {
     "data": {
      "application/mercury+json": "{\n    \"widget\": \"Select\",\n    \"value\": \"blue\",\n    \"choices\": [\n        \"red\",\n        \"blue\"\n    ],\n    \"label\": \"Color\",\n    \"model_id\": \"2407b96c9e7a4c3b8bc28e3404c0bd5a\",\n    \"code_uid\": \"Select.0.40.16.1-rand17ca7b93\",\n    \"url_key\": \"\",\n    \"disabled\": false,\n    \"hidden\": false\n}",
      "application/vnd.jupyter.widget-view+json": {
       "model_id": "2407b96c9e7a4c3b8bc28e3404c0bd5a",
       "version_major": 2,
       "version_minor": 0
      },
      "text/plain": [
       "mercury.Select"
      ]
     },
     "metadata": {},
     "output_type": "display_data"
    }
   ],
   "source": [
    "color = mr.Select(label=\"Color\", value=\"blue\", choices=[\"red\", \"blue\"])"
   ]
  },
  {
   "cell_type": "code",
   "execution_count": 7,
   "id": "ab2c627c-4e1a-41a3-b869-7b07bc0cf36a",
   "metadata": {
    "editable": true,
    "slideshow": {
     "slide_type": "slide"
    },
    "tags": []
   },
   "outputs": [
    {
     "data": {
      "image/png": "[encoded data removed]",
      "text/plain": [
       "<Figure size 640x480 with 1 Axes>"
      ]
     },
     "metadata": {},
     "output_type": "display_data"
    }
   ],
   "source": [
    "_ = plt.plot(df[\"col1\"], df[\"col2\"], \"*\", markersize=12, color=color.value)"
   ]
  },
  {
   "cell_type": "code",
   "execution_count": null,
   "id": "b09361fb-83d9-4a20-a6db-74e4d371aaa9",
   "metadata": {
    "editable": true,
    "slideshow": {
     "slide_type": ""
    },
    "tags": []
   },
   "outputs": [],
   "source": []
  }
 ],
 "metadata": {
  "kernelspec": {
   "display_name": "esenv",
   "language": "python",
   "name": "esenv"
  },
  "language_info": {
   "codemirror_mode": {
    "name": "ipython",
    "version": 3
   },
   "file_extension": ".py",
   "mimetype": "text/x-python",
   "name": "python",
   "nbconvert_exporter": "python",
   "pygments_lexer": "ipython3",
   "version": "3.11.3"
  }
 },
 "nbformat": 4,
 "nbformat_minor": 5
}
