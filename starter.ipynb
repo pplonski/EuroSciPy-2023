{
 "cells": [
  {
   "cell_type": "code",
   "execution_count": 1,
   "id": "1b9135ad-300d-4d74-8191-6160be18504d",
   "metadata": {
    "editable": true,
    "slideshow": {
     "slide_type": ""
    },
    "tags": []
   },
   "outputs": [],
   "source": [
    "import mercury as mr"
   ]
  },
  {
   "cell_type": "code",
   "execution_count": 2,
   "id": "e1ef85f8-6a29-4698-a1b2-f038eace3db6",
   "metadata": {},
   "outputs": [
    {
     "data": {
      "application/mercury+json": "{\n    \"widget\": \"App\",\n    \"title\": \"Starter notebook\",\n    \"description\": \"Very simple notebook with few widgets\",\n    \"show_code\": false,\n    \"show_prompt\": false,\n    \"output\": \"app\",\n    \"schedule\": \"\",\n    \"notify\": \"{}\",\n    \"continuous_update\": false,\n    \"static_notebook\": false,\n    \"show_sidebar\": true,\n    \"full_screen\": true,\n    \"allow_download\": true,\n    \"stop_on_error\": false,\n    \"model_id\": \"mercury-app\",\n    \"code_uid\": \"App.0.40.25.1-rand444b1adb\"\n}",
      "text/html": [
       "<h3>Mercury Application</h3><small>This output won't appear in the web app.</small>"
      ],
      "text/plain": [
       "mercury.App"
      ]
     },
     "metadata": {},
     "output_type": "display_data"
    }
   ],
   "source": [
    "app = mr.App(title=\"Starter notebook 🚀\", description=\"Very simple notebook with few widgets\",\n",
    "            show_code=False, continuous_update=False)"
   ]
  },
  {
   "cell_type": "markdown",
   "id": "8342bfcf-b94a-492f-8c62-dd4bd5835085",
   "metadata": {},
   "source": [
    "# EuroSciPy 2023\n",
    "\n",
    "Mercury tutorial with first notebook.\n",
    "\n",
    "Let's start!"
   ]
  },
  {
   "cell_type": "code",
   "execution_count": 3,
   "id": "005db0e1-58d4-4a1b-a45e-ea7f3ca1b91a",
   "metadata": {},
   "outputs": [
    {
     "data": {
      "application/mercury+json": "{\n    \"widget\": \"Select\",\n    \"value\": \"Hello\",\n    \"choices\": [\n        \"Hello\",\n        \"Hi\",\n        \"Cze\\u015b\\u0107\"\n    ],\n    \"label\": \"Greetings\",\n    \"model_id\": \"4ec07f37f0764d8eb41166b435245b53\",\n    \"code_uid\": \"Select.0.40.16.1-randec32088d\",\n    \"url_key\": \"\",\n    \"disabled\": false,\n    \"hidden\": false\n}",
      "application/vnd.jupyter.widget-view+json": {
       "model_id": "4ec07f37f0764d8eb41166b435245b53",
       "version_major": 2,
       "version_minor": 0
      },
      "text/plain": [
       "mercury.Select"
      ]
     },
     "metadata": {},
     "output_type": "display_data"
    }
   ],
   "source": [
    "greetings = mr.Select(label=\"Greetings\", value=\"Hello\", choices=[\"Hello\", \"Hi\", \"Cześć\"])"
   ]
  },
  {
   "cell_type": "code",
   "execution_count": 4,
   "id": "e0a88abd-23c4-4589-81f0-015ee7afbfa1",
   "metadata": {},
   "outputs": [
    {
     "data": {
      "application/mercury+json": "{\n    \"widget\": \"Text\",\n    \"value\": \"Basel\",\n    \"rows\": 1,\n    \"label\": \"City\",\n    \"model_id\": \"88245dd4f7144519ba7ff963522dae0e\",\n    \"code_uid\": \"Text.0.40.15.1-rand29325d0e\",\n    \"url_key\": \"\",\n    \"disabled\": false,\n    \"hidden\": false\n}",
      "application/vnd.jupyter.widget-view+json": {
       "model_id": "88245dd4f7144519ba7ff963522dae0e",
       "version_major": 2,
       "version_minor": 0
      },
      "text/plain": [
       "mercury.Text"
      ]
     },
     "metadata": {},
     "output_type": "display_data"
    }
   ],
   "source": [
    "city = mr.Text(label=\"City\", value=\"Basel\")"
   ]
  },
  {
   "cell_type": "code",
   "execution_count": 5,
   "id": "cbf88dd3-14f1-4692-b600-d5a7da618886",
   "metadata": {},
   "outputs": [
    {
     "data": {
      "text/markdown": [
       "## Hello Basel!"
      ],
      "text/plain": [
       "<IPython.core.display.Markdown object>"
      ]
     },
     "metadata": {},
     "output_type": "display_data"
    }
   ],
   "source": [
    "mr.Markdown(f\"## {greetings.value} {city.value}!\")"
   ]
  },
  {
   "cell_type": "code",
   "execution_count": 6,
   "id": "4a7a6db4-8a34-4b2c-b781-285478a6c953",
   "metadata": {},
   "outputs": [
    {
     "data": {
      "application/mercury+json": "{\n    \"widget\": \"Slider\",\n    \"value\": 2,\n    \"min\": 0,\n    \"max\": 10,\n    \"step\": 1,\n    \"label\": \"Variable a\",\n    \"model_id\": \"8a54ba614d344c9aa9984409f0950bc0\",\n    \"code_uid\": \"Slider.0.40.34.1-rand141d03c8\",\n    \"url_key\": \"\",\n    \"disabled\": false,\n    \"hidden\": false\n}",
      "application/vnd.jupyter.widget-view+json": {
       "model_id": "8a54ba614d344c9aa9984409f0950bc0",
       "version_major": 2,
       "version_minor": 0
      },
      "text/plain": [
       "mercury.Slider"
      ]
     },
     "metadata": {},
     "output_type": "display_data"
    }
   ],
   "source": [
    "a = mr.Slider(label=\"Variable a\", value=2)"
   ]
  },
  {
   "cell_type": "code",
   "execution_count": 7,
   "id": "a736c491-345d-4f6b-9329-e87a6c848d14",
   "metadata": {},
   "outputs": [
    {
     "data": {
      "application/mercury+json": "{\n    \"widget\": \"Numeric\",\n    \"value\": 0.0,\n    \"min\": 0.0,\n    \"max\": 10.0,\n    \"step\": 1.0,\n    \"label\": \"Variable b\",\n    \"model_id\": \"abf8f5f2b0b647e69fede2e692177e70\",\n    \"code_uid\": \"Numeric.0.40.26.1-rand9c679ce4\",\n    \"url_key\": \"\",\n    \"disabled\": false,\n    \"hidden\": false\n}",
      "application/vnd.jupyter.widget-view+json": {
       "model_id": "abf8f5f2b0b647e69fede2e692177e70",
       "version_major": 2,
       "version_minor": 0
      },
      "text/plain": [
       "mercury.Numeric"
      ]
     },
     "metadata": {},
     "output_type": "display_data"
    }
   ],
   "source": [
    "b = mr.Numeric(label=\"Variable b\")"
   ]
  },
  {
   "cell_type": "code",
   "execution_count": 8,
   "id": "889b293a-e131-4bdd-ba59-50b0c169ebef",
   "metadata": {},
   "outputs": [],
   "source": [
    "c = a.value + b.value"
   ]
  },
  {
   "cell_type": "code",
   "execution_count": 9,
   "id": "91ed60c4-96d4-40ca-839c-87b1f608a1b9",
   "metadata": {},
   "outputs": [
    {
     "data": {
      "text/markdown": [
       "## The result is 2.0"
      ],
      "text/plain": [
       "<IPython.core.display.Markdown object>"
      ]
     },
     "metadata": {},
     "output_type": "display_data"
    }
   ],
   "source": [
    "mr.Markdown(f\"## The result is {c}\")"
   ]
  },
  {
   "cell_type": "code",
   "execution_count": null,
   "id": "e192ef7d-10fd-4e2d-815f-eb21d3a3f879",
   "metadata": {},
   "outputs": [],
   "source": []
  },
  {
   "cell_type": "code",
   "execution_count": null,
   "id": "97d5ff58-82e6-43db-a97c-cc66b2fdaa79",
   "metadata": {},
   "outputs": [],
   "source": []
  }
 ],
 "metadata": {
  "kernelspec": {
   "display_name": "esenv",
   "language": "python",
   "name": "esenv"
  },
  "language_info": {
   "codemirror_mode": {
    "name": "ipython",
    "version": 3
   },
   "file_extension": ".py",
   "mimetype": "text/x-python",
   "name": "python",
   "nbconvert_exporter": "python",
   "pygments_lexer": "ipython3",
   "version": "3.11.3"
  }
 },
 "nbformat": 4,
 "nbformat_minor": 5
}
